{
 "cells": [
  {
   "cell_type": "code",
   "execution_count": 2,
   "metadata": {},
   "outputs": [],
   "source": [
    "import numpy as np\n",
    "import pandas as pd"
   ]
  },
  {
   "cell_type": "code",
   "execution_count": 5,
   "metadata": {},
   "outputs": [],
   "source": [
    "# Hagan's SABR formula\n",
    "def SABR(alpha, beta, nu, rho, F, K, T):\n",
    "\n",
    "    eps_SABR = 0.0001\n",
    "    \n",
    "    V = (F * K)**((1.0 - beta) / 2.0)\n",
    "    logFK = np.log(F / K)\n",
    "    \n",
    "    tmp1 = nu * nu * (2.0 - 3.0 * rho * rho) / 24.0\n",
    "    tmp1 += rho * beta * nu * alpha / (V * 4.0)\n",
    "    tmp1 += (1.0 - beta) * (1.0 - beta) * alpha * alpha / ((V**2) * 24.0)\n",
    "    tmp1 = alpha * (1.0 + (tmp1 * T))\n",
    "    \n",
    "    tmp2 = V * (1.0 + np.power(logFK * (1.0 - beta), 2.0) / 24.0 + np.power(logFK * (1.0 - beta), 4.0) / 1920.0)\n",
    "    \n",
    "    z = nu / alpha  * V * logFK\n",
    "    \n",
    "    def chi(z):\n",
    "        \n",
    "        eps_SABR = 0.0001\n",
    "        \n",
    "        tmp1 = np.sqrt(1.0 - 2.0 * rho * z + z * z)\n",
    "        np.where(abs(z) < eps_SABR, z, z)\n",
    "        \n",
    "        z = np.where((tmp1 + z - rho > 0.0),\n",
    "                     np.log((tmp1 + z - rho) / (1.0 - rho)), np.log((1.0 + rho) / (tmp1 - (z - rho))))\n",
    "        \n",
    "        return z\n",
    "    \n",
    "    chi_z = chi(z)\n",
    "    \n",
    "    vol = np.where(abs(F - K) > eps_SABR, tmp1 / tmp2 * z / chi_z, tmp1 / np.power(F, 1.0 - beta))\n",
    "    \n",
    "    return vol        "
   ]
  },
  {
   "cell_type": "code",
   "execution_count": 18,
   "metadata": {},
   "outputs": [],
   "source": [
    "nSamples = 1000000\n",
    "rngSeed = 42\n",
    "rng = np.random.RandomState(rngSeed)\n",
    "\n",
    "# Generate\n",
    "beta = rng.uniform(0.10, 0.80, (nSamples, 1))\n",
    "nu = rng.uniform(0.20, 0.80, (nSamples, 1))\n",
    "rho = rng.uniform(-0.40, 0.40, (nSamples, 1))\n",
    "F = rng.uniform(0.02, 0.04, (nSamples, 1))\n",
    "alpha = rng.uniform(0.05, 0.25, (nSamples, 1)) / F**(beta - 1.0)\n",
    "K = rng.uniform(0.01, 0.06, (nSamples, 1))\n",
    "T = rng.uniform(1.0 / 12.0, 5.0, (nSamples, 1))\n",
    "IV = SABR(alpha, beta, nu, rho, F, K, T) \n",
    "\n",
    "# Save into csv file\n",
    "data = pd.DataFrame({'alpha': alpha[:,0], 'beta': beta[:,0], 'nu': nu[:,0], 'rho': rho[:,0],\n",
    "                     'F': F[:,0], 'K': K[:,0], 'T': T[:,0], 'IV': IV[:,0]})\n",
    "\n",
    "data = data.drop(data[data.IV > 1.5].index) # Remove high vols\n",
    "\n",
    "data.to_csv(\"Samples_SABR.csv\", sep=',', index = False)"
   ]
  },
  {
   "cell_type": "code",
   "execution_count": null,
   "metadata": {},
   "outputs": [],
   "source": []
  }
 ],
 "metadata": {
  "kernelspec": {
   "display_name": "Python 3",
   "language": "python",
   "name": "python3"
  },
  "language_info": {
   "codemirror_mode": {
    "name": "ipython",
    "version": 3
   },
   "file_extension": ".py",
   "mimetype": "text/x-python",
   "name": "python",
   "nbconvert_exporter": "python",
   "pygments_lexer": "ipython3",
   "version": "3.6.7"
  }
 },
 "nbformat": 4,
 "nbformat_minor": 2
}
