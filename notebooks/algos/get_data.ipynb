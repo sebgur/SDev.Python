{
 "cells": [
  {
   "cell_type": "markdown",
   "metadata": {},
   "source": [
    "### Acquiring and Processing Data\n",
    "\n",
    "Based on \"Python for Algorithmic Trading Cookbook\", by Jason Strimpel."
   ]
  },
  {
   "cell_type": "code",
   "execution_count": 8,
   "metadata": {},
   "outputs": [],
   "source": [
    "# Import packages\n",
    "import datetime as dt\n",
    "import pandas as pd\n",
    "from openbb import obb\n",
    "obb.user.preferences.output_type = \"dataframe\""
   ]
  },
  {
   "cell_type": "code",
   "execution_count": 21,
   "metadata": {},
   "outputs": [
    {
     "name": "stdout",
     "output_type": "stream",
     "text": [
      "                  open        high         low       close\n",
      "date                                                      \n",
      "2022-03-30  460.339996  461.200012  456.470001  458.700012\n",
      "2022-03-31  457.890015  458.760010  451.160004  451.640015\n",
      "2022-04-01  453.309998  453.459991  449.140015  452.920013\n",
      "2022-04-04  453.130005  456.910004  452.260010  456.799988\n",
      "2022-04-05  455.220001  457.829987  449.820007  451.029999\n"
     ]
    }
   ],
   "source": [
    "# Retrieving EQ spot data\n",
    "data = obb.equity.price.historical(\"SPY\", provider=\"yfinance\", start_date=dt.date(2022, 3, 30),\n",
    "                                   end_date=dt.date(2024, 3, 30))\n",
    "data.drop(columns=['volume', 'dividend'], inplace=True)\n",
    "print(data.head())"
   ]
  },
  {
   "cell_type": "code",
   "execution_count": 26,
   "metadata": {},
   "outputs": [
    {
     "name": "stdout",
     "output_type": "stream",
     "text": [
      "              2025-12    2026-12    2027-12    2028-12\n",
      "date                                                  \n",
      "2025-03-03  65.320000  63.459999  62.709999  62.360001\n",
      "2025-03-04  64.959999  63.380001  62.740002  62.410000\n",
      "2025-03-05  63.580002  62.299999  61.889999  61.720001\n",
      "2025-03-06  63.500000  62.169998  61.779999  61.680000\n",
      "2025-03-07  64.220001  62.799999  62.299999  62.150002\n",
      "2025-03-10  63.090000  61.790001  61.400002  61.320000\n",
      "2025-03-11  63.270000  61.900002  61.500000  61.410000\n",
      "2025-03-12  64.540001  62.939999  62.330002  62.090000\n",
      "2025-03-13  63.660000  62.330002  61.939999  61.810001\n",
      "2025-03-14  64.169998  62.810001  62.410000  62.270000\n"
     ]
    },
    {
     "data": {
      "text/plain": [
       "<Axes: >"
      ]
     },
     "execution_count": 26,
     "metadata": {},
     "output_type": "execute_result"
    },
    {
     "data": {
      "image/png": "[encoded data removed]",
      "text/plain": [
       "<Figure size 640x480 with 1 Axes>"
      ]
     },
     "metadata": {},
     "output_type": "display_data"
    }
   ],
   "source": [
    "# Retrieving futures data\n",
    "expirations = [\"2025-12\", \"2026-12\", \"2027-12\", \"2028-12\"]\n",
    "start = \"2025-03-01\"\n",
    "end = \"2025-03-16\"\n",
    "contracts = []\n",
    "for expiration in expirations:\n",
    "    df = obb.derivatives.futures.historical(symbol=\"CL\", expiration=expiration, start_date=start,\n",
    "                                            end_date=end)\n",
    "    df.rename(columns={\"close\": expiration}, inplace=True)\n",
    "    contracts.append(df[expiration])\n",
    "\n",
    "historical_futures = pd.DataFrame(contracts).transpose().dropna()\n",
    "print(historical_futures)\n",
    "historical_futures.iloc[-1].plot()"
   ]
  },
  {
   "cell_type": "code",
   "execution_count": 27,
   "metadata": {},
   "outputs": [
    {
     "name": "stdout",
     "output_type": "stream",
     "text": [
      "<class 'pandas.core.frame.DataFrame'>\n",
      "RangeIndex: 7204 entries, 0 to 7203\n",
      "Data columns (total 18 columns):\n",
      " #   Column              Non-Null Count  Dtype  \n",
      "---  ------              --------------  -----  \n",
      " 0   underlying_symbol   7204 non-null   object \n",
      " 1   underlying_price    7204 non-null   float64\n",
      " 2   contract_symbol     7204 non-null   object \n",
      " 3   expiration          7204 non-null   object \n",
      " 4   dte                 7204 non-null   int64  \n",
      " 5   strike              7204 non-null   float64\n",
      " 6   option_type         7204 non-null   object \n",
      " 7   open_interest       7204 non-null   int64  \n",
      " 8   volume              7204 non-null   int64  \n",
      " 9   last_trade_price    7204 non-null   float64\n",
      " 10  last_trade_time     7204 non-null   object \n",
      " 11  bid                 7204 non-null   float64\n",
      " 12  ask                 7204 non-null   float64\n",
      " 13  change              7204 non-null   float64\n",
      " 14  change_percent      7204 non-null   float64\n",
      " 15  implied_volatility  7204 non-null   float64\n",
      " 16  in_the_money        7204 non-null   bool   \n",
      " 17  currency            7204 non-null   object \n",
      "dtypes: bool(1), float64(8), int64(3), object(6)\n",
      "memory usage: 963.9+ KB\n"
     ]
    }
   ],
   "source": [
    "# Retrieving EQ option data\n",
    "chains = obb.derivatives.options.chains(symbol=\"SPY\")\n",
    "chains.info()"
   ]
  },
  {
   "cell_type": "code",
   "execution_count": null,
   "metadata": {},
   "outputs": [],
   "source": []
  }
 ],
 "metadata": {
  "kernelspec": {
   "display_name": "py311.tf217",
   "language": "python",
   "name": "python3"
  },
  "language_info": {
   "codemirror_mode": {
    "name": "ipython",
    "version": 3
   },
   "file_extension": ".py",
   "mimetype": "text/x-python",
   "name": "python",
   "nbconvert_exporter": "python",
   "pygments_lexer": "ipython3",
   "version": "3.11.6"
  }
 },
 "nbformat": 4,
 "nbformat_minor": 2
}
