{
 "cells": [
  {
   "cell_type": "code",
   "execution_count": null,
   "metadata": {},
   "outputs": [],
   "source": [
    "%load_ext autoreload\n",
    "%autoreload 2\n",
    "\n",
    "import back_testing as btest\n",
    "import data_io as myio\n",
    "import plotting as myplt\n",
    "import pandas as pd\n",
    "\n",
    "import ipywidgets as widgets\n",
    "from IPython.display import display\n",
    "from ipywidgets import interact, interact_manual\n",
    "import matplotlib.pyplot as plt\n",
    "\n",
    "import warnings\n",
    "warnings.filterwarnings('ignore')"
   ]
  },
  {
   "cell_type": "code",
   "execution_count": null,
   "metadata": {},
   "outputs": [],
   "source": [
    "df_fx_spot, df_fx_ivol = myio.read_all_fx_data('../data/bloomberg fx data sheet.xlsx')\n",
    "res_df_filtered = pd.read_excel('../back_testing_data/multi_dates_coint_search_for_back_testing_on_2020-07-24.xlsx', index_col=0) \n",
    "\n",
    "NOW = df_fx_spot.index[-1].strftime('%Y-%m-%d')\n",
    "output_details_xls = '../back_testing_details_on_' + NOW + '.xlsx'\n",
    "\n",
    "output_summary_xls = '../back_testing_summary_table_on_' + NOW + '.xlsx'"
   ]
  },
  {
   "cell_type": "markdown",
   "metadata": {},
   "source": [
    "# Generate Backtesting results"
   ]
  },
  {
   "cell_type": "code",
   "execution_count": null,
   "metadata": {},
   "outputs": [],
   "source": [
    "res_df_back_test = btest.back_test_many_trades(res_df_filtered, NOW, df_fx_spot)\n",
    "res_df_back_test.to_excel(output_details_xls)"
   ]
  },
  {
   "cell_type": "code",
   "execution_count": null,
   "metadata": {},
   "outputs": [],
   "source": [
    "start_dates = ['2019-06-01', '2020-01-01', '2020-03-01'] \n",
    "end_dates   = ['2020-01-01', '2020-07-01', '2020-07-01']\n",
    "\n",
    "Sharpe_thresholds = [0.8, 0.9, 1.0, 1.1, 1.2] \n",
    "ZScore_thresholds = [1.8, 1.9, 2.0, 2.1, 2.2]\n",
    "\n",
    "df_back_test_summary_table = btest.several_back_test_summary_tables(res_df_back_test, \n",
    "                                                                    start_dates, \n",
    "                                                                    end_dates, \n",
    "                                                                    Sharpe_thresholds, \n",
    "                                                                    ZScore_thresholds)\n",
    "\n",
    "df_back_test_summary_table.to_excel(output_summary_xls)"
   ]
  },
  {
   "cell_type": "code",
   "execution_count": null,
   "metadata": {
    "scrolled": false
   },
   "outputs": [],
   "source": [
    "@interact_manual\n",
    "def show_articles_more_than(Sharpe = (0, 1.5, 0.05), SD = (1.5, 2.2, 0.1),\n",
    "                            start_date = widgets.DatePicker(value=pd.to_datetime('2020-03-01')),\n",
    "                            end_date = widgets.DatePicker(value=pd.to_datetime(NOW)),\n",
    "                            x = ['Sharpe Ratio', 'Abs SD']):\n",
    "    myplt.plot_back_testing_results(res_df_back_test, SD, Sharpe, x, start_date, end_date)\n"
   ]
  },
  {
   "cell_type": "code",
   "execution_count": null,
   "metadata": {},
   "outputs": [],
   "source": []
  }
 ],
 "metadata": {
  "kernelspec": {
   "display_name": "Python 3",
   "language": "python",
   "name": "python3"
  },
  "language_info": {
   "codemirror_mode": {
    "name": "ipython",
    "version": 3
   },
   "file_extension": ".py",
   "mimetype": "text/x-python",
   "name": "python",
   "nbconvert_exporter": "python",
   "pygments_lexer": "ipython3",
   "version": "3.7.3"
  }
 },
 "nbformat": 4,
 "nbformat_minor": 2
}
