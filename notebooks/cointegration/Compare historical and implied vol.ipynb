{
 "cells": [
  {
   "cell_type": "markdown",
   "metadata": {},
   "source": [
    "# Daily"
   ]
  },
  {
   "cell_type": "code",
   "execution_count": null,
   "metadata": {},
   "outputs": [],
   "source": [
    "%load_ext autoreload\n",
    "%autoreload 2\n",
    "\n",
    "import numpy as np\n",
    "import pandas as pd\n",
    "import coint_trading as ct\n",
    "import utils as ut\n",
    "import plotting as myplt\n",
    "import data_io as myio\n",
    "import mean_reversion as mrev\n",
    "\n",
    "import ipywidgets as widgets\n",
    "from IPython.display import display\n",
    "from ipywidgets import interact, interact_manual\n",
    "from datetime import datetime\n",
    "\n",
    "import warnings\n",
    "warnings.filterwarnings(\"ignore\")"
   ]
  },
  {
   "cell_type": "markdown",
   "metadata": {},
   "source": [
    "### User Specification"
   ]
  },
  {
   "cell_type": "code",
   "execution_count": null,
   "metadata": {},
   "outputs": [],
   "source": [
    "FROM = '2017-07-23'\n",
    "name_list = ['GBPUSD Curncy', 'AUDUSD Curncy', 'NZDUSD Curncy', 'CADUSD Curncy']\n",
    "\n",
    "\n",
    "TODAY = '2023-09-15'"
   ]
  },
  {
   "cell_type": "markdown",
   "metadata": {},
   "source": [
    "### Read in data and perform estimation using the latest data"
   ]
  },
  {
   "cell_type": "code",
   "execution_count": null,
   "metadata": {
    "scrolled": false
   },
   "outputs": [],
   "source": [
    "df_fx_spot, df_fx_ivol = myio.read_all_fx_data('../data/bloomberg fx data sheet.xlsx')\n",
    "df_fx_spot = df_fx_spot.loc[FROM:TODAY]\n",
    "df_fx_name_list_XXXUSD = df_fx_spot[name_list]\n",
    "\n",
    "res_estimation = ct.johansen_test_estimation(df_fx_name_list_XXXUSD, name_list, 0, 1)\n",
    "res_diag = ct.johansen_test_diag(res_estimation, df_fx_name_list_XXXUSD, name_list, True, 0, 1)\n",
    "weights_XXXUSD = res_estimation['weights']\n",
    "basket = res_diag['Johansen Basket']\n",
    "\n",
    "normal_vol_ts = ut.compute_daily_hist_normal_vol(basket)\n",
    "\n",
    "df_fx_ivol = df_fx_ivol.loc[FROM:TODAY]\n",
    "df_fx_ivol = df_fx_ivol[name_list]\n",
    "\n",
    "all_data = pd.concat([df_fx_ivol, normal_vol_ts], axis=1)\n",
    "\n",
    "#------------------------------------------------------------------------------------\n",
    "LOWER_THRESHOLD = 2\n",
    "HIGHER_THRESHOLD = 9\n",
    "\n",
    "mean_rev_ts = mrev.MeanRevTimeSeries(basket)\n",
    "long_run_mean = mean_rev_ts.get_mean_rev_level()\n",
    "historical_std = mean_rev_ts.get_stdev()\n",
    "\n",
    "df_MeanRevStats = mrev.compute_sharpe_and_buysell_signal_multi_period(basket,\n",
    "                                                                      long_run_mean,\n",
    "                                                                      historical_std,\n",
    "                                                                      mean_rev_ts.get_mean_rev_rate_in_days(),\n",
    "                                                                      mean_rev_ts.get_half_life_in_days(),\n",
    "                                                                      LOWER_THRESHOLD,\n",
    "                                                                      HIGHER_THRESHOLD)\n",
    "\n",
    "df_Sharpe = df_MeanRevStats[['Sharpe Ratio']]"
   ]
  },
  {
   "cell_type": "markdown",
   "metadata": {},
   "source": [
    "### Time Seires of Basket with z-score using historical std (for trading signal)"
   ]
  },
  {
   "cell_type": "code",
   "execution_count": null,
   "metadata": {
    "scrolled": false
   },
   "outputs": [],
   "source": [
    "@interact_manual\n",
    "def show_articles_more_than(start_date = widgets.DatePicker(value=pd.to_datetime('2020-02-01')),\n",
    "                            end_date   = widgets.DatePicker(value=pd.to_datetime(TODAY)),\n",
    "                            vert_line_date = widgets.DatePicker(value=pd.to_datetime('2020-04-25')),\n",
    "                            currency_pairs = name_list):     \n",
    "    \n",
    "    column_names = list(all_data.columns)\n",
    "    \n",
    "    plot_name_list = [currency_pairs, column_names[-1]]\n",
    "    \n",
    "    plot_data = all_data[plot_name_list]\n",
    "    \n",
    "    ax = plot_data.plot(secondary_y=[column_names[-1]], kind='line', grid=True, figsize=(15,5), style='-o')\n",
    "    ax.set_xlim(pd.Timestamp(start_date), pd.Timestamp(end_date))\n",
    "    \n",
    "    xlim_range = (start_date, end_date)     \n",
    "    myplt.normal_plot(df_Sharpe, xlim_range, vert_line_date)     "
   ]
  },
  {
   "cell_type": "code",
   "execution_count": null,
   "metadata": {},
   "outputs": [],
   "source": []
  }
 ],
 "metadata": {
  "kernelspec": {
   "display_name": "Python 3",
   "language": "python",
   "name": "python3"
  },
  "language_info": {
   "codemirror_mode": {
    "name": "ipython",
    "version": 3
   },
   "file_extension": ".py",
   "mimetype": "text/x-python",
   "name": "python",
   "nbconvert_exporter": "python",
   "pygments_lexer": "ipython3",
   "version": "3.8.5"
  }
 },
 "nbformat": 4,
 "nbformat_minor": 2
}
