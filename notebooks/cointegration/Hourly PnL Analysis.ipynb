{
 "cells": [
  {
   "cell_type": "markdown",
   "metadata": {},
   "source": [
    "### Given a currency basket and start time, we estimate the weights and analyse the performance."
   ]
  },
  {
   "cell_type": "code",
   "execution_count": 1,
   "metadata": {},
   "outputs": [],
   "source": [
    "%load_ext autoreload\n",
    "%autoreload 2\n",
    "\n",
    "import numpy as np\n",
    "import pandas as pd\n",
    "import coint_trading as ct\n",
    "import utils as ut\n",
    "import plotting as myplt\n",
    "import data_io as myio\n",
    "import mean_reversion as mrev\n",
    "import pandas as pd\n",
    "\n",
    "import ipywidgets as widgets\n",
    "from IPython.display import display\n",
    "from ipywidgets import interact, interact_manual\n",
    "from datetime import datetime\n",
    "\n",
    "from ta.momentum import RSIIndicator\n",
    "\n",
    "import warnings\n",
    "warnings.filterwarnings(\"ignore\")"
   ]
  },
  {
   "cell_type": "markdown",
   "metadata": {},
   "source": [
    "### User Specification"
   ]
  },
  {
   "cell_type": "code",
   "execution_count": 2,
   "metadata": {},
   "outputs": [],
   "source": [
    "name_list = ['EURUSD Curncy', 'GBPUSD Curncy', 'AUDUSD Curncy', 'NZDUSD Curncy', 'CNHUSD Curncy']\n",
    "\n"
   ]
  },
  {
   "cell_type": "code",
   "execution_count": 12,
   "metadata": {},
   "outputs": [
    {
     "name": "stdout",
     "output_type": "stream",
     "text": [
      "2023-10-02 03:00:00\n",
      "2024-02-14 22:00:00\n",
      "number of data points: 2336\n"
     ]
    }
   ],
   "source": [
    "df_raw = pd.read_excel('../data/bloomberg fx hourly data sheet.xlsx')\n",
    "\n",
    "df_fx_spot = pd.DataFrame()\n",
    "\n",
    "def one_over(x):\n",
    "    return 1.0/x\n",
    "\n",
    "ccy_list = ['CAD', 'JPY', 'CHF', 'SGD', 'CNH']\n",
    "for ccy in ccy_list:      \n",
    "    df_temp = df_raw[[ccy, 'USD' + ccy + ' Curncy']]    \n",
    "    df_temp = df_temp.dropna() \n",
    "    df_temp = df_temp.rename(columns={ccy: \"Time\"})\n",
    "    df_temp = df_temp.set_index('Time')   \n",
    "    # convert the column from USDXXX to XXXUSD \n",
    "    df_temp = df_temp.rename(columns={'USD' + ccy + ' Curncy': ccy + 'USD Curncy'})\n",
    "    df_fx_spot = pd.concat([df_fx_spot, df_temp], axis=1)\n",
    "    \n",
    "# remove the row when there is no data for any ccy pair, e.g. SG Monday morning at 2:00am in order to avoid 1/x when x = 0.\n",
    "df_fx_spot = df_fx_spot.dropna()\n",
    "\n",
    "# convert to XXXUSSD by 1/USDXXX\n",
    "df_fx_spot = df_fx_spot.apply(one_over, axis=1)\n",
    "\n",
    "ccy_list = ['EUR', 'GBP', 'AUD', 'NZD']\n",
    "for ccy in ccy_list:  \n",
    "    df_temp = df_raw[[ccy, ccy + 'USD Curncy']]\n",
    "    df_temp = df_temp.dropna()\n",
    "    df_temp = df_temp.rename(columns={ccy: \"Time\"})\n",
    "    df_temp = df_temp.set_index('Time')    \n",
    "    df_fx_spot = pd.concat([df_fx_spot, df_temp], axis=1)\n",
    "\n",
    "# remove the row when there is no data for any ccy pair again to make sure all time stamp has data for all ccy pairs.\n",
    "df_fx_spot = df_fx_spot.dropna()\n",
    "\n",
    "FROM = df_fx_spot.index[0]\n",
    "NOW = df_fx_spot.index[-1]\n",
    "print(FROM)\n",
    "print(NOW)\n",
    "print(\"number of data points:\" + ' ' + str(len(df_fx_spot.index)))"
   ]
  },
  {
   "cell_type": "markdown",
   "metadata": {},
   "source": [
    "### Read in data and perform estimation using the latest data"
   ]
  },
  {
   "cell_type": "code",
   "execution_count": 14,
   "metadata": {},
   "outputs": [
    {
     "name": "stdout",
     "output_type": "stream",
     "text": [
      " -------------------------------------------------------\n",
      "                weights  PX_LAST  market convention notional\n",
      "EURUSD Curncy  1.000000   1.0716                    1.000000\n",
      "GBPUSD Curncy -0.164138   1.2559                   -0.164138\n",
      "AUDUSD Curncy -1.248345   0.6480                   -1.248345\n",
      "NZDUSD Curncy  0.825969   0.6079                    0.825969\n",
      "CNHUSD Curncy -4.045390   7.2253                    0.559892\n",
      "USD_amount = 0.0013\n",
      " -------------------------------------------------------\n",
      "Pass trace test (5%) = False\n",
      "Pass eigen test (5%) = False\n",
      "Pass trace test (10%) = False\n",
      "Pass eigen test (10%) = False\n",
      "          trace      10%       5%       1%\n",
      "r=0   61.468209  65.8202  69.8189  77.8202\n",
      "r<=1  37.594725  44.4929  47.8545  54.6815\n",
      "r<=2  20.909247  27.0669  29.7961  35.4628\n",
      "r<=3   9.513727  13.4294  15.4943  19.9349\n",
      "r<=4   2.649953   2.7055   3.8415   6.6349\n",
      "          eigen      10%       5%       1%\n",
      "r=0   23.873484  31.2379  33.8777  39.3693\n",
      "r<=1  16.685478  25.1236  27.5858  32.7172\n",
      "r<=2  11.395520  18.8928  21.1314  25.8650\n",
      "r<=3   6.863774  12.2971  14.2639  18.5200\n",
      "r<=4   2.649953   2.7055   3.8415   6.6349\n",
      " -------------------------------------------------------\n",
      "half life in days = 45.274\n",
      "const p-value = 0.34952932\n",
      "Basket p-value = 2.09e-05\n",
      "current zscore = -0.079\n",
      "SD Sharpe Ratio = 0.085\n",
      "RSI 14 = 45.893\n",
      "current level = -0.001\n",
      "1mio 1SD in USD = 4109.0\n",
      "basket_std = 0.004108806538530748\n",
      "mean_rev_level = -0.0009292345383943502\n",
      "mean_rev_rate_in_days = -0.015310211177388264\n",
      "--------------------------------------------------\n",
      "      One day diff in SD\n",
      "0.01           -0.473508\n",
      "0.05           -0.273240\n",
      "0.25           -0.091312\n",
      "0.50            0.002975\n",
      "0.75            0.095910\n",
      "0.95            0.275726\n",
      "0.99            0.450782\n"
     ]
    }
   ],
   "source": [
    "#df_fx_spot = df_fx_spot.loc[FROM:TODAY]\n",
    "df_fx_name_list_XXXUSD = df_fx_spot[name_list]\n",
    "\n",
    "res_estimation = ct.johansen_test_estimation(df_fx_name_list_XXXUSD, name_list, 0, 1)\n",
    "res_diag = ct.johansen_test_diag(res_estimation, df_fx_name_list_XXXUSD, name_list, True, 0, 1)\n",
    "\n",
    "weights_XXXUSD = res_estimation['weights']\n",
    "basket = res_diag['Johansen Basket']\n",
    "#------------------------------------------------------------------------------------\n",
    "LOWER_THRESHOLD = 2.2\n",
    "HIGHER_THRESHOLD = 2.5\n",
    "\n",
    "mean_rev_ts = mrev.MeanRevTimeSeries(basket)\n",
    "long_run_mean = mean_rev_ts.get_mean_rev_level()\n",
    "historical_std = mean_rev_ts.get_stdev()\n",
    "\n",
    "df_MeanRevStats = mrev.compute_sharpe_and_buysell_signal_multi_period(basket,\n",
    "                                                                      long_run_mean,\n",
    "                                                                      historical_std,\n",
    "                                                                      mean_rev_ts.get_mean_rev_rate_in_days(),                                                                      \n",
    "                                                                      mean_rev_ts.get_half_life_in_days(),\n",
    "                                                                      LOWER_THRESHOLD,\n",
    "                                                                      HIGHER_THRESHOLD)\n",
    "\n",
    "basket_x_days_hist_rtns = ut.compute_x_day_historical_returns(basket)\n",
    "#------------------------------------------------------------------------------------\n",
    "df_buy_sell_signal = df_MeanRevStats[['Buy Signal', 'Sell Signal']]\n",
    "df_Sharpe = df_MeanRevStats[['Sharpe Ratio']]\n",
    "\n",
    "df_hist_vol = pd.DataFrame(ut.compute_daily_hist_normal_vol(basket, 15))\n",
    "df_rsi = pd.DataFrame(RSIIndicator(basket, 14).rsi())\n",
    "\n",
    "shock_in_market_conv_pips = 10\n",
    "dBasket_SD = ut.basket_SD_change_due_to_fx_spot_change(df_fx_name_list_XXXUSD, \n",
    "                                                       weights_XXXUSD, \n",
    "                                                       shock_in_market_conv_pips,\n",
    "                                                       long_run_mean,\n",
    "                                                       historical_std\n",
    "                                                       )\n",
    "#print(dBasket_SD)\n",
    "\n",
    "ts = (basket - long_run_mean)/historical_std\n",
    "df_diff = pd.DataFrame(ts.diff())\n",
    "df_diff = df_diff.rename(columns={\"Basket\": \"One day diff in SD\"})\n",
    "print(\"--------------------------------------------------\")\n",
    "print(df_diff.quantile([0.01, 0.05, 0.25, 0.5, 0.75, 0.95, 0.99]))"
   ]
  },
  {
   "cell_type": "code",
   "execution_count": 21,
   "metadata": {},
   "outputs": [],
   "source": [
    "DATE = \"2023-11-02 03:00:00\""
   ]
  },
  {
   "cell_type": "markdown",
   "metadata": {},
   "source": [
    "### Time Seires of Basket with z-score using historical std (for trading signal)"
   ]
  },
  {
   "cell_type": "code",
   "execution_count": 22,
   "metadata": {
    "scrolled": false
   },
   "outputs": [
    {
     "data": {
      "application/vnd.jupyter.widget-view+json": {
       "model_id": "7af554332418469099c5ec2e1c279715",
       "version_major": 2,
       "version_minor": 0
      },
      "text/plain": [
       "interactive(children=(DatePicker(value=Timestamp('2023-10-02 03:00:00'), description='start_date', step=1), Da…"
      ]
     },
     "metadata": {},
     "output_type": "display_data"
    }
   ],
   "source": [
    "@interact_manual\n",
    "def show_articles_more_than(start_date = widgets.DatePicker(value=pd.to_datetime(FROM)),\n",
    "                            end_date   = widgets.DatePicker(value=pd.to_datetime(NOW)),\n",
    "                            vert_line_date = widgets.DatePicker(value=pd.to_datetime(DATE)),\n",
    "                            z_lower = (-8, 2, 0.5), z_upper = (-2, 8, 0.5), quantile = (1,10)):        \n",
    "    xlim_range = (start_date, end_date)   \n",
    "    ylim_range = (long_run_mean + z_lower * historical_std, long_run_mean + z_upper * historical_std)\n",
    "    myplt.plot_trading_signal_graphs(basket, long_run_mean, historical_std, \n",
    "                                     df_buy_sell_signal, xlim_range, ylim_range, vert_line_date) \n",
    "    myplt.normal_plot(df_hist_vol, xlim_range, vert_line_date, quantile, 'b-o') \n",
    "    myplt.normal_plot(df_Sharpe, xlim_range, vert_line_date, quantile, 'g-o')  \n",
    "    myplt.normal_plot(df_rsi, xlim_range, vert_line_date, quantile, 'r-o')\n",
    "    #myplt.normal_plot(df_diff, xlim_range, vert_line_date, quantile, 'k')     "
   ]
  },
  {
   "cell_type": "markdown",
   "metadata": {},
   "source": [
    "### PnL Performance"
   ]
  },
  {
   "cell_type": "code",
   "execution_count": null,
   "metadata": {},
   "outputs": [],
   "source": [
    "start_date = '2024-01-03'\n",
    "end_date = TODAY\n",
    "\n",
    "traded_fx_rates = df_fx_name_list_XXXUSD.loc[start_date]\n",
    "\n",
    "num_rows = df_MeanRevStats['Return Expectation over X days'].loc[start_date:end_date].count()\n",
    "\n",
    "### if using constant notional \n",
    "constant_notional = -2000000\n",
    "\n",
    "# get the size of the list correct\n",
    "constant_notionals = np.ones(num_rows) * constant_notional\n",
    "\n",
    "output_xls = '../PnL Analysis from ' + start_date + ' to ' + end_date + '.xlsx'\n",
    "\n",
    "df_pnl = ut.pnl_analysis_info_to_Excel(df_fx_name_list_XXXUSD, \n",
    "                                       constant_notionals, \n",
    "                                       weights_XXXUSD,\n",
    "                                       traded_fx_rates, \n",
    "                                       start_date, \n",
    "                                       end_date)\n",
    "\n",
    "\n",
    "\n",
    "df_pnl.to_excel(output_xls)\n",
    "\n",
    "df_pnl['Basket Cumulative PnL'].plot(grid=True, figsize=(15,5))"
   ]
  }
 ],
 "metadata": {
  "kernelspec": {
   "display_name": "Python 3 (ipykernel)",
   "language": "python",
   "name": "python3"
  },
  "language_info": {
   "codemirror_mode": {
    "name": "ipython",
    "version": 3
   },
   "file_extension": ".py",
   "mimetype": "text/x-python",
   "name": "python",
   "nbconvert_exporter": "python",
   "pygments_lexer": "ipython3",
   "version": "3.11.5"
  }
 },
 "nbformat": 4,
 "nbformat_minor": 4
}
