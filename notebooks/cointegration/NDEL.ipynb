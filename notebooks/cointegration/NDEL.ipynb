{
 "cells": [
  {
   "cell_type": "markdown",
   "metadata": {},
   "source": [
    "### Cointegration Pair Trading\n",
    "\n",
    "Based on this [NEDL video](https://www.youtube.com/watch?v=jvZ0vuC9oJk&t=5s)"
   ]
  },
  {
   "cell_type": "code",
   "execution_count": 4,
   "metadata": {},
   "outputs": [
    {
     "name": "stdout",
     "output_type": "stream",
     "text": [
      "Yahoo Finance:  0.2.52\n"
     ]
    }
   ],
   "source": [
    "# Import packages\n",
    "import numpy as np\n",
    "import pandas as pd\n",
    "import yfinance as yf\n",
    "import statsmodels.api as sm\n",
    "import scipy.optimize as spop\n",
    "import matplotlib.pyplot as plt\n",
    "\n",
    "print(\"Yahoo Finance: \", yf.__version__)"
   ]
  },
  {
   "cell_type": "code",
   "execution_count": null,
   "metadata": {},
   "outputs": [
    {
     "name": "stderr",
     "output_type": "stream",
     "text": [
      "[*********************100%***********************]  1 of 1 completed\n",
      "[*********************100%***********************]  1 of 1 completed\n"
     ]
    }
   ],
   "source": [
    "# Specifying parameters\n",
    "stocks = ['JPM', 'C']\n",
    "start = '2019-12-31'\n",
    "end = '2021-03-08'\n",
    "fee = 0.001\n",
    "window = 252\n",
    "# Threshold value of the t-statistics from unit root regression.\n",
    "# The more negative the t-statistics, the better.\n",
    "# Rules of thumbs: should be less than -2.5.\n",
    "# -3 is very good, -4 is excellent, -5 is wonderful.\n",
    "t_threshold = -2.5\n",
    "\n",
    "# Retrieving data\n",
    "data = pd.DataFrame()\n",
    "for stock in stocks:\n",
    "    prices = yf.download(stock, start, end)\n",
    "    data[stock] = prices['Close']"
   ]
  },
  {
   "cell_type": "code",
   "execution_count": 20,
   "metadata": {},
   "outputs": [
    {
     "name": "stdout",
     "output_type": "stream",
     "text": [
      "          JPM         C\n",
      "0    0.012124  0.016773\n",
      "1   -0.013196 -0.018836\n",
      "2   -0.000795 -0.003137\n",
      "3   -0.017001 -0.008685\n",
      "4    0.007801  0.007618\n",
      "..        ...       ...\n",
      "292 -0.003256 -0.009060\n",
      "293  0.019332  0.021332\n",
      "294 -0.015369 -0.008099\n",
      "295  0.002324  0.006017\n",
      "296  0.000000  0.000000\n",
      "\n",
      "[297 rows x 2 columns]\n"
     ]
    }
   ],
   "source": [
    "# Calculate returns\n",
    "returns = pd.DataFrame()\n",
    "for stock in stocks:\n",
    "    df_t = data[stock][1:].reset_index(drop=True)\n",
    "    df_tm1 = data[stock][:-1].reset_index(drop=True)\n",
    "    r = df_t / df_tm1 - 1.0\n",
    "    returns[stock] = np.append(r, 0)\n",
    "\n",
    "print(returns)"
   ]
  },
  {
   "cell_type": "code",
   "execution_count": null,
   "metadata": {},
   "outputs": [],
   "source": [
    "# Initializing arrays\n",
    "gross_returns = np.array([])\n",
    "net_returns = np.array([])\n",
    "t_s = np.array([])\n",
    "stock1 = stocks[0]\n",
    "stock2 = stocks[1]\n",
    "for t in range(window, len(data)):\n",
    "    # Define the unit root function: stock2 = a + b * stock1"
   ]
  }
 ],
 "metadata": {
  "kernelspec": {
   "display_name": "py311.tf217",
   "language": "python",
   "name": "python3"
  },
  "language_info": {
   "codemirror_mode": {
    "name": "ipython",
    "version": 3
   },
   "file_extension": ".py",
   "mimetype": "text/x-python",
   "name": "python",
   "nbconvert_exporter": "python",
   "pygments_lexer": "ipython3",
   "version": "3.11.6"
  }
 },
 "nbformat": 4,
 "nbformat_minor": 2
}
