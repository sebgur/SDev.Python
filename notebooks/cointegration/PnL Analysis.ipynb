{
 "cells": [
  {
   "cell_type": "markdown",
   "metadata": {},
   "source": [
    "### Given a currency basket, start date and end date, we estimate the weights and analyse the performance."
   ]
  },
  {
   "cell_type": "code",
   "execution_count": null,
   "metadata": {},
   "outputs": [],
   "source": [
    "%load_ext autoreload\n",
    "%autoreload 2\n",
    "\n",
    "import numpy as np\n",
    "import pandas as pd\n",
    "import coint_trading as ct\n",
    "import utils as ut\n",
    "import plotting as myplt\n",
    "import data_io as myio\n",
    "import mean_reversion as mrev\n",
    "\n",
    "import ipywidgets as widgets\n",
    "from IPython.display import display\n",
    "from ipywidgets import interact, interact_manual\n",
    "from datetime import datetime\n",
    "\n",
    "from ta.momentum import RSIIndicator\n",
    "\n",
    "import warnings\n",
    "warnings.filterwarnings(\"ignore\")"
   ]
  },
  {
   "cell_type": "markdown",
   "metadata": {},
   "source": [
    "### User Specification"
   ]
  },
  {
   "cell_type": "code",
   "execution_count": null,
   "metadata": {},
   "outputs": [],
   "source": [
    "FROM = '2010-08-23'\n",
    "name_list = ['AUDUSD Curncy', 'CADUSD Curncy']\n",
    "\n",
    "FROM = '2017-07-23'\n",
    "name_list = ['GBPUSD Curncy', 'AUDUSD Curncy', 'NZDUSD Curncy', 'CADUSD Curncy']\n",
    "\n",
    "FROM = '2016-10-23'\n",
    "name_list = ['EURUSD Curncy', 'GBPUSD Curncy', 'AUDUSD Curncy', 'NZDUSD Curncy', 'CNHUSD Curncy']\n",
    "\n",
    "TODAY = '2024-01-24'"
   ]
  },
  {
   "cell_type": "markdown",
   "metadata": {},
   "source": [
    "### Read in data and perform estimation using the latest data"
   ]
  },
  {
   "cell_type": "code",
   "execution_count": null,
   "metadata": {
    "scrolled": false
   },
   "outputs": [],
   "source": [
    "df_fx_spot, df_fx_ivol = myio.read_all_fx_data('../data/bloomberg fx data sheet.xlsx')\n",
    "df_fx_spot = df_fx_spot.loc[FROM:TODAY]\n",
    "df_fx_name_list_XXXUSD = df_fx_spot[name_list]\n",
    "\n",
    "res_estimation = ct.johansen_test_estimation(df_fx_name_list_XXXUSD, name_list, 0, 1)\n",
    "res_diag = ct.johansen_test_diag(res_estimation, df_fx_name_list_XXXUSD, name_list, True, 0, 1)\n",
    "\n",
    "weights_XXXUSD = res_estimation['weights']\n",
    "basket = res_diag['Johansen Basket']\n",
    "#------------------------------------------------------------------------------------\n",
    "LOWER_THRESHOLD = 2.2\n",
    "HIGHER_THRESHOLD = 2.5\n",
    "\n",
    "mean_rev_ts = mrev.MeanRevTimeSeries(basket)\n",
    "long_run_mean = mean_rev_ts.get_mean_rev_level()\n",
    "historical_std = mean_rev_ts.get_stdev()\n",
    "\n",
    "df_MeanRevStats = mrev.compute_sharpe_and_buysell_signal_multi_period(basket,\n",
    "                                                                      long_run_mean,\n",
    "                                                                      historical_std,\n",
    "                                                                      mean_rev_ts.get_mean_rev_rate_in_days(),                                                                      \n",
    "                                                                      mean_rev_ts.get_half_life_in_days(),\n",
    "                                                                      LOWER_THRESHOLD,\n",
    "                                                                      HIGHER_THRESHOLD)\n",
    "\n",
    "basket_x_days_hist_rtns = ut.compute_x_day_historical_returns(basket)\n",
    "#------------------------------------------------------------------------------------\n",
    "df_buy_sell_signal = df_MeanRevStats[['Buy Signal', 'Sell Signal']]\n",
    "df_Sharpe = df_MeanRevStats[['Sharpe Ratio']]\n",
    "\n",
    "df_hist_vol = pd.DataFrame(ut.compute_daily_hist_normal_vol(basket, 15))\n",
    "df_rsi = pd.DataFrame(RSIIndicator(basket, 14).rsi())\n",
    "\n",
    "shock_in_market_conv_pips = 10\n",
    "dBasket_SD = ut.basket_SD_change_due_to_fx_spot_change(df_fx_name_list_XXXUSD, \n",
    "                                                       weights_XXXUSD, \n",
    "                                                       shock_in_market_conv_pips,\n",
    "                                                       long_run_mean,\n",
    "                                                       historical_std\n",
    "                                                       )\n",
    "#print(dBasket_SD)\n",
    "\n",
    "ts = (basket - long_run_mean)/historical_std\n",
    "df_diff = pd.DataFrame(ts.diff())\n",
    "df_diff = df_diff.rename(columns={\"Basket\": \"One day diff in SD\"})\n",
    "print(\"--------------------------------------------------\")\n",
    "print(df_diff.quantile([0.01, 0.05, 0.25, 0.5, 0.75, 0.95, 0.99]))"
   ]
  },
  {
   "cell_type": "markdown",
   "metadata": {},
   "source": [
    "### Time Seires of Basket with z-score using historical std (for trading signal)"
   ]
  },
  {
   "cell_type": "code",
   "execution_count": null,
   "metadata": {
    "scrolled": false
   },
   "outputs": [],
   "source": [
    "@interact_manual\n",
    "def show_articles_more_than(start_date = widgets.DatePicker(value=pd.to_datetime('2023-02-01')),\n",
    "                            end_date   = widgets.DatePicker(value=pd.to_datetime(TODAY)),\n",
    "                            vert_line_date = widgets.DatePicker(value=pd.to_datetime('2021-10-10')),\n",
    "                            z_lower = (-8, 2, 0.5), z_upper = (-2, 8, 0.5), quantile = (1,10)):        \n",
    "    xlim_range = (start_date, end_date)   \n",
    "    ylim_range = (long_run_mean + z_lower * historical_std, long_run_mean + z_upper * historical_std)\n",
    "    myplt.plot_trading_signal_graphs(basket, long_run_mean, historical_std, \n",
    "                                     df_buy_sell_signal, xlim_range, ylim_range, vert_line_date)      \n",
    "    myplt.normal_plot(df_hist_vol, xlim_range, vert_line_date, quantile, 'b-o') \n",
    "    myplt.normal_plot(df_Sharpe, xlim_range, vert_line_date, quantile, 'g-o')  \n",
    "    myplt.normal_plot(df_rsi, xlim_range, vert_line_date, quantile, 'r-o')\n",
    "    myplt.normal_plot(df_diff, xlim_range, vert_line_date, quantile, 'k-o')     \n",
    "    #myplt.plot_hist_returns(basket_x_days_hist_rtns, df_buy_sell_signal, xlim_range, LOWER_THRESHOLD, vert_line_date) "
   ]
  },
  {
   "cell_type": "markdown",
   "metadata": {},
   "source": [
    "### PnL Performance"
   ]
  },
  {
   "cell_type": "code",
   "execution_count": null,
   "metadata": {
    "scrolled": false
   },
   "outputs": [],
   "source": [
    "start_date = '2020-05-14'\n",
    "end_date = TODAY\n",
    "\n",
    "traded_fx_rates = df_fx_name_list_XXXUSD.loc[start_date]\n",
    "\n",
    "num_rows = df_MeanRevStats['Return Expectation over X days'].loc[start_date:end_date].count()\n",
    "\n",
    "### if using constant notional \n",
    "constant_notional = -2000000\n",
    "\n",
    "# get the size of the list correct\n",
    "constant_notionals = np.ones(num_rows) * constant_notional\n",
    "\n",
    "output_xls = '../PnL Analysis from ' + start_date + ' to ' + end_date + '.xlsx'\n",
    "\n",
    "df_pnl = ut.pnl_analysis_info_to_Excel(df_fx_name_list_XXXUSD, \n",
    "                                       constant_notionals, \n",
    "                                       weights_XXXUSD,\n",
    "                                       traded_fx_rates, \n",
    "                                       start_date, \n",
    "                                       end_date)\n",
    "\n",
    "\n",
    "\n",
    "df_pnl.to_excel(output_xls)\n",
    "\n",
    "df_pnl['Basket Cumulative PnL'].plot(grid=True, figsize=(15,5))"
   ]
  }
 ],
 "metadata": {
  "kernelspec": {
   "display_name": "Python 3",
   "language": "python",
   "name": "python3"
  },
  "language_info": {
   "codemirror_mode": {
    "name": "ipython",
    "version": 3
   },
   "file_extension": ".py",
   "mimetype": "text/x-python",
   "name": "python",
   "nbconvert_exporter": "python",
   "pygments_lexer": "ipython3",
   "version": "3.8.5"
  }
 },
 "nbformat": 4,
 "nbformat_minor": 2
}
