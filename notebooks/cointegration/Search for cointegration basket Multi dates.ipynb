{
 "cells": [
  {
   "cell_type": "code",
   "execution_count": null,
   "metadata": {},
   "outputs": [],
   "source": [
    "%load_ext autoreload\n",
    "%autoreload 2\n",
    "\n",
    "import coint_trading as ct\n",
    "import data_io as myio\n",
    "import pandas as pd\n",
    "import utils as ut\n",
    "import model_settings as settings\n",
    "\n",
    "import warnings\n",
    "warnings.filterwarnings(\"ignore\")"
   ]
  },
  {
   "cell_type": "markdown",
   "metadata": {},
   "source": [
    "### User specificaiton"
   ]
  },
  {
   "cell_type": "code",
   "execution_count": null,
   "metadata": {},
   "outputs": [],
   "source": [
    "from itertools import combinations \n",
    "\n",
    "G8_no_CHF_list = ['EURUSD Curncy', 'GBPUSD Curncy', 'AUDUSD Curncy', 'NZDUSD Curncy', \n",
    "                  'JPYUSD Curncy', 'CADUSD Curncy', 'SGDUSD Curncy', 'CNHUSD Curncy']\n",
    "\n",
    "df_fx_spot, df_fx_ivol = myio.read_all_fx_data('../data/bloomberg fx data sheet.xlsx')\n",
    "\n",
    "TRADE_DATE_list = ut.generate_Mon_to_Fri_between_2_dates('2020-02-25', '2020-06-26')\n",
    "\n",
    "FROM_list = ['2015-07-23', '2015-10-23',\n",
    "             '2016-01-23', '2016-04-23'\n",
    "            ]\n",
    "             \n",
    "output_xls = '../multi_dates_coint_search_for_back_testing_on_' + df_fx_spot.index[-1].strftime('%Y-%m-%d') + '.xlsx' \n",
    "\n",
    "print(len(TRADE_DATE_list))"
   ]
  },
  {
   "cell_type": "markdown",
   "metadata": {},
   "source": [
    "### Performing the Johansen Test on all basket combinations"
   ]
  },
  {
   "cell_type": "code",
   "execution_count": null,
   "metadata": {
    "scrolled": false
   },
   "outputs": [],
   "source": [
    "SHOW_BASKET_WITH_SD_ABOVE = 2.0\n",
    "SHOW_BASKET_WITH_SHARPE_ABOVE = 0.5\n",
    "SHOW_BASKET_WITH_HALF_LIFE_IN_DAYS_BELOW = 80\n",
    "\n",
    "output_df = pd.DataFrame()\n",
    "\n",
    "tic = ut.time_now()\n",
    "\n",
    "for TRADE_DATE in TRADE_DATE_list:\n",
    "    print(TRADE_DATE)    \n",
    "    \n",
    "    res_df = ct.johansen_compute_all_baskets(FROM_list, TRADE_DATE, G8_no_CHF_list, df_fx_spot)   \n",
    "    \n",
    "    df_filtered = ct.filter_cointegration_basket_using_trace_10(res_df)    \n",
    "    df_filtered = ct.compute_johansen_test_diag_for_all_coint_baskets(df_filtered, df_fx_spot)\n",
    "    df_filtered = ct.filter_cointegration_basket_using_SD_threshold(df_filtered, SHOW_BASKET_WITH_SD_ABOVE)  \n",
    "    df_filtered = ct.filter_cointegration_basket_using_1m_1SD_in_USD(df_filtered)\n",
    "    df_filtered = ct.filter_cointegration_basket_using_Sharpe_Ratio(df_filtered, SHOW_BASKET_WITH_SHARPE_ABOVE)\n",
    "    df_filtered = ct.filter_cointegration_basket_using_half_life_in_days(df_filtered, SHOW_BASKET_WITH_HALF_LIFE_IN_DAYS_BELOW)\n",
    "\n",
    "    df_filtered = ct.compute_johansen_stability_diagnostics(df_filtered, df_fx_spot, settings.DataFreq.DAILY)\n",
    "    df_filtered = ct.compute_historical_min_max_SD_diagnostics(df_filtered, df_fx_spot)\n",
    "    \n",
    "    output_df = pd.concat([output_df, df_filtered])\n",
    "    \n",
    "output_df.to_excel(output_xls)\n",
    "\n",
    "toc = ut.time_now()\n",
    "print(toc - tic)"
   ]
  },
  {
   "cell_type": "code",
   "execution_count": null,
   "metadata": {},
   "outputs": [],
   "source": []
  },
  {
   "cell_type": "code",
   "execution_count": null,
   "metadata": {},
   "outputs": [],
   "source": []
  }
 ],
 "metadata": {
  "kernelspec": {
   "display_name": "Python 3",
   "language": "python",
   "name": "python3"
  },
  "language_info": {
   "codemirror_mode": {
    "name": "ipython",
    "version": 3
   },
   "file_extension": ".py",
   "mimetype": "text/x-python",
   "name": "python",
   "nbconvert_exporter": "python",
   "pygments_lexer": "ipython3",
   "version": "3.7.3"
  }
 },
 "nbformat": 4,
 "nbformat_minor": 2
}
