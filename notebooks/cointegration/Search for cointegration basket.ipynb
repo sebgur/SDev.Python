{
 "cells": [
  {
   "cell_type": "markdown",
   "metadata": {},
   "source": [
    "### This notebook searches all possible cointegration basket for a given list of currency pairs."
   ]
  },
  {
   "cell_type": "code",
   "execution_count": 1,
   "metadata": {},
   "outputs": [],
   "source": [
    "import os, sys\n",
    "import warnings\n",
    "warnings.filterwarnings(\"ignore\")\n",
    "\n",
    "# Add SDevPy location to path\n",
    "sdev_path = r\"C:\\\\Code\\\\SDev.Python\"\n",
    "if sdev_path not in sys.path:\n",
    "    if os.path.exists(sdev_path):\n",
    "        sys.path.append(sdev_path)\n",
    "    else:\n",
    "        print(\"Path to SDevPy not found: \" + sdev_path)\n",
    "\n",
    "from sdevpy.cointegration import coint_trading as ct\n",
    "from sdevpy.cointegration import data_io as myio\n",
    "from sdevpy.cointegration import model_settings as settings\n",
    "\n",
    "root = r\"C:\\\\temp\\\\sdevpy\\\\cointegration\""
   ]
  },
  {
   "cell_type": "markdown",
   "metadata": {},
   "source": [
    "### User specifications\n",
    "Load a dataset including (CHF or not)"
   ]
  },
  {
   "cell_type": "code",
   "execution_count": null,
   "metadata": {},
   "outputs": [
    {
     "name": "stdout",
     "output_type": "stream",
     "text": [
      "FX spot data set is from = 2010-08-24 to 2024-10-04\n",
      "            EURUSD Curncy  GBPUSD Curncy  AUDUSD Curncy  NZDUSD Curncy  \\\n",
      "Dates                                                                    \n",
      "2010-08-23         1.2657         1.5512         0.8913         0.7068   \n",
      "2010-08-24         1.2627         1.5396         0.8817         0.7023   \n",
      "2010-08-25         1.2659         1.5458         0.8840         0.6995   \n",
      "2010-08-26         1.2716         1.5528         0.8863         0.7029   \n",
      "2010-08-27         1.2763         1.5529         0.8989         0.7109   \n",
      "\n",
      "            JPYUSD Curncy  CADUSD Curncy  CHFUSD Curncy  NOKUSD Curncy  \\\n",
      "Dates                                                                    \n",
      "2010-08-23       0.011743       0.950390       0.960799       0.160210   \n",
      "2010-08-24       0.011919       0.942063       0.967961       0.158466   \n",
      "2010-08-25       0.011823       0.943752       0.970309       0.158448   \n",
      "2010-08-26       0.011841       0.945269       0.976562       0.158738   \n",
      "2010-08-27       0.011733       0.951656       0.972763       0.160331   \n",
      "\n",
      "            SEKUSD Curncy  SGDUSD Curncy  CNHUSD Curncy  \n",
      "Dates                                                    \n",
      "2010-08-23       0.135038       0.736648       0.148699  \n",
      "2010-08-24       0.133529       0.734268       0.148666  \n",
      "2010-08-25       0.134277       0.736214       0.148533  \n",
      "2010-08-26       0.134887       0.737844       0.148258  \n",
      "2010-08-27       0.136256       0.739044       0.148082  \n"
     ]
    }
   ],
   "source": [
    "# Dataset without CHF\n",
    "ticker_list = ['EURUSD Curncy', 'GBPUSD Curncy', 'AUDUSD Curncy', 'NZDUSD Curncy', \n",
    "               'JPYUSD Curncy', 'CADUSD Curncy', 'SGDUSD Curncy', 'CNHUSD Curncy']\n",
    "\n",
    "df_fx_spot = myio.read_fx_spot_data(os.path.join(root, 'data/bloomberg fx data sheet.xlsx'))\n",
    "\n",
    "print(df_fx_spot.head())\n",
    "\n",
    "start_list = ['2010-08-23', '2010-10-23',\n",
    "              '2011-01-23', '2011-04-23', '2011-07-23', '2011-10-23',\n",
    "              '2012-01-23', '2012-04-23', '2012-07-23', '2012-10-23',\n",
    "              '2013-01-23', '2013-04-23', '2013-07-23', '2013-10-23',\n",
    "              '2014-01-23', '2014-04-23', '2014-07-23', '2014-10-23',\n",
    "              '2015-01-23', '2015-04-23', '2015-07-23', '2015-10-23',\n",
    "              '2016-01-23', '2016-04-23', '2016-07-23', '2016-10-23',\n",
    "              '2017-01-23', '2017-04-23', '2017-07-23', '2017-10-23',\n",
    "              '2018-01-23', '2018-04-23', '2018-07-23', '2018-10-23',\n",
    "              '2019-01-23', '2019-04-23', '2019-07-23', '2019-10-23',\n",
    "             ]\n",
    "             \n",
    "TODAY = '2024-01-19'\n",
    "output_xls = os.path.join(root, 'cointegration_search_on_' + TODAY + '.xlsx') "
   ]
  },
  {
   "cell_type": "code",
   "execution_count": null,
   "metadata": {},
   "outputs": [],
   "source": [
    "# Dataset with CHF\n",
    "ticker_list = ['EURUSD Curncy', 'GBPUSD Curncy', 'AUDUSD Curncy', 'NZDUSD Curncy', \n",
    "               'JPYUSD Curncy', 'CADUSD Curncy', 'SGDUSD Curncy', 'CNHUSD Curncy', 'CHFUSD Curncy']\n",
    "\n",
    "df_fx_spot = myio.read_fx_spot_data(os.path.join(root, 'data/bloomberg fx data sheet.xlsx'))\n",
    "\n",
    "start_list = ['2015-07-23', '2015-10-23',\n",
    "              '2016-01-23', '2016-04-23', '2016-07-23', '2016-10-23',\n",
    "              '2017-01-23', '2017-04-23', '2017-07-23', '2017-10-23',\n",
    "              '2018-01-23', '2018-04-23', '2018-07-23', '2018-10-23',\n",
    "              '2019-01-23', '2019-04-23', '2019-07-23', '2019-10-23',\n",
    "             ]\n",
    "             \n",
    "TODAY = '2024-01-19'\n",
    "output_xls = os.path.join(root, 'cointegration_search_on_' + TODAY + '.xlsx') "
   ]
  },
  {
   "cell_type": "markdown",
   "metadata": {},
   "source": [
    "### Performing the Johansen Test on all basket combinations"
   ]
  },
  {
   "cell_type": "code",
   "execution_count": 6,
   "metadata": {},
   "outputs": [
    {
     "name": "stderr",
     "output_type": "stream",
     "text": [
      "100%|██████████| 38/38 [00:27<00:00,  1.38it/s]\n"
     ]
    },
    {
     "name": "stdout",
     "output_type": "stream",
     "text": [
      "Number of baskets = 7980\n",
      "Number of cointegrated baskets = 5035\n"
     ]
    },
    {
     "name": "stderr",
     "output_type": "stream",
     "text": [
      "100%|██████████| 5035/5035 [00:49<00:00, 101.87it/s]\n"
     ]
    }
   ],
   "source": [
    "res_df = ct.johansen_compute_all_baskets(start_list, TODAY, ticker_list, df_fx_spot)\n",
    "df_coint = ct.filter_cointegration_basket_using_trace_10(res_df)\n",
    "print('Number of baskets = ' + str(len(res_df))  )\n",
    "print('Number of cointegrated baskets = ' + str(len(df_coint))  )\n",
    "\n",
    "df_coint_diag = ct.compute_johansen_test_diag_for_all_coint_baskets(df_coint, df_fx_spot)"
   ]
  },
  {
   "cell_type": "markdown",
   "metadata": {},
   "source": [
    "### Filter for cointegrated basket with certain criteria. Then compute a few extra diagnostics for the selected basket and export to Excel"
   ]
  },
  {
   "cell_type": "code",
   "execution_count": null,
   "metadata": {
    "scrolled": false
   },
   "outputs": [],
   "source": [
    "SHOW_BASKET_WITH_SD_ABOVE = 1.5\n",
    "SHOW_BASKET_WITH_SHARPE_ABOVE = 1.0\n",
    "SHOW_BASKET_WITH_HALF_LIFE_IN_DAYS_BELOW = 100\n",
    "\n",
    "df_filtered = ct.filter_cointegration_basket_using_SD_threshold(df_coint_diag, SHOW_BASKET_WITH_SD_ABOVE)  \n",
    "df_filtered = ct.filter_cointegration_basket_using_1m_1SD_in_USD(df_filtered)\n",
    "df_filtered = ct.filter_cointegration_basket_using_Sharpe_Ratio(df_filtered, SHOW_BASKET_WITH_SHARPE_ABOVE)\n",
    "df_filtered = ct.filter_cointegration_basket_using_half_life_in_days(df_filtered, SHOW_BASKET_WITH_HALF_LIFE_IN_DAYS_BELOW)\n",
    "\n",
    "df_filtered = ct.compute_johansen_stability_diagnostics(df_filtered, df_fx_spot, settings.DataFreq.DAILY)\n",
    "df_filtered = ct.compute_historical_min_max_SD_diagnostics(df_filtered, df_fx_spot)"
   ]
  },
  {
   "cell_type": "code",
   "execution_count": null,
   "metadata": {
    "scrolled": false
   },
   "outputs": [],
   "source": [
    "df_output_formatted = myio.format_cointegration_seach_output(df_filtered)\n",
    "df_output_formatted.to_excel(output_xls)\n",
    "\n",
    "print(df_filtered[['SD Current']])\n",
    "print(df_filtered[['what you should trade']])\n",
    "print(df_filtered[['currency pairs']])\n",
    "print(df_filtered[['half life in days']]) \n",
    "print(df_filtered[['half life Sharpe Ratio']])\n",
    "print(df_filtered[['RSI 14']])\n",
    "print(df_filtered[['Stop Loss in SD']])\n",
    "print(df_filtered[['From']])"
   ]
  },
  {
   "cell_type": "code",
   "execution_count": null,
   "metadata": {},
   "outputs": [],
   "source": []
  }
 ],
 "metadata": {
  "kernelspec": {
   "display_name": "py311.tf217",
   "language": "python",
   "name": "python3"
  },
  "language_info": {
   "codemirror_mode": {
    "name": "ipython",
    "version": 3
   },
   "file_extension": ".py",
   "mimetype": "text/x-python",
   "name": "python",
   "nbconvert_exporter": "python",
   "pygments_lexer": "ipython3",
   "version": "3.11.6"
  }
 },
 "nbformat": 4,
 "nbformat_minor": 2
}
