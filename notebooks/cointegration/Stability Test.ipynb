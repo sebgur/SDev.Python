{
 "cells": [
  {
   "cell_type": "markdown",
   "metadata": {},
   "source": [
    "# Daily"
   ]
  },
  {
   "cell_type": "code",
   "execution_count": null,
   "metadata": {},
   "outputs": [],
   "source": [
    "%load_ext autoreload\n",
    "%autoreload 2\n",
    "\n",
    "import numpy as np\n",
    "import coint_trading as ct\n",
    "import utils as ut\n",
    "import data_io as myio\n",
    "import model_settings as settings"
   ]
  },
  {
   "cell_type": "markdown",
   "metadata": {},
   "source": [
    "### User Specification and read in the data"
   ]
  },
  {
   "cell_type": "code",
   "execution_count": null,
   "metadata": {},
   "outputs": [],
   "source": [
    "FROM = '2015-07-23'\n",
    "name_list = ['EURUSD Curncy', 'JPYUSD Curncy', 'SGDUSD Curncy']\n",
    "TODAY = '2020-05-29'"
   ]
  },
  {
   "cell_type": "markdown",
   "metadata": {},
   "source": [
    "### changing the start date - check if the estimation is stable or not"
   ]
  },
  {
   "cell_type": "code",
   "execution_count": null,
   "metadata": {
    "scrolled": false
   },
   "outputs": [],
   "source": [
    "df_fx_XXXUSD, df_fx_ivol = myio.read_all_fx_data('../data/bloomberg fx data sheet.xlsx')\n",
    "\n",
    "res_start_df = ct.compute_johansen_params_stability(df_fx_XXXUSD, FROM, TODAY, name_list, \n",
    "                                                    settings.JohansenVaringDate.START, settings.DataFreq.DAILY)\n",
    "\n",
    "df_start_output = myio.format_rolling_dates_output(res_start_df)\n",
    "\n",
    "df_start_output.to_excel('../Rolling_Start_Date_' + FROM + '_to_' + TODAY + '.xlsx' ) \n",
    "\n",
    "display_current_zscore_df = res_start_df[['From', 'current zscore', 'trace (5%)', 'trace (10%)', 'eigen (5%)', 'eigen (10%)']]\n",
    "display_current_zscore_df = display_current_zscore_df.set_index('From')\n",
    "display_current_zscore_df.plot(kind='line', grid=True, figsize=(15,5))\n",
    "\n",
    "x = res_start_df['current zscore']\n",
    "range_in_SD = round(np.max(x) - np.min(x), 4)\n",
    "print('Range of SD = ' + str(range_in_SD))\n",
    "\n",
    "print(display_current_zscore_df)"
   ]
  },
  {
   "cell_type": "markdown",
   "metadata": {},
   "source": [
    "### changing the end date - check if the weight changes if the market moves"
   ]
  },
  {
   "cell_type": "code",
   "execution_count": null,
   "metadata": {},
   "outputs": [],
   "source": [
    "res_end_df = ct.compute_johansen_params_stability(df_fx_XXXUSD, FROM, TODAY, name_list, \n",
    "                                                  settings.JohansenVaringDate.END, settings.DataFreq.DAILY)\n",
    "df_end_output = myio.format_rolling_dates_output(res_end_df)\n",
    "df_end_output.to_excel('../Rolling_End_Date_' + FROM + '_to_' + TODAY + '.xlsx' )\n",
    "\n",
    "dis_from_mean_df = res_end_df[['Current Date', 'unadj weights in xxxUSD', 'trace (5%)', 'trace (10%)', 'eigen (5%)', 'eigen (10%)']]\n",
    "\n",
    "print(dis_from_mean_df)\n",
    "\n",
    "mean_rev_level_std_df = res_end_df[['basket_std', 'mean_rev_level', 'current zscore']]\n",
    "\n",
    "print(mean_rev_level_std_df)"
   ]
  }
 ],
 "metadata": {
  "kernelspec": {
   "display_name": "Python 3",
   "language": "python",
   "name": "python3"
  },
  "language_info": {
   "codemirror_mode": {
    "name": "ipython",
    "version": 3
   },
   "file_extension": ".py",
   "mimetype": "text/x-python",
   "name": "python",
   "nbconvert_exporter": "python",
   "pygments_lexer": "ipython3",
   "version": "3.7.3"
  }
 },
 "nbformat": 4,
 "nbformat_minor": 2
}
